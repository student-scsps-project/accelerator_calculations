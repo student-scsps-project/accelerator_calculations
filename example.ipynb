{
 "cells": [
  {
   "cell_type": "code",
   "execution_count": 7,
   "metadata": {},
   "outputs": [],
   "source": [
    "import numpy as np\n",
    "import matplotlib.pyplot as plt\n",
    "import accelerator_calculations as ac \n",
    "from accelerator_calculations import pq"
   ]
  },
  {
   "cell_type": "code",
   "execution_count": 28,
   "metadata": {},
   "outputs": [],
   "source": [
    "proton = ac.particle(1*pq.m_p, 1*pq.e, 1*pq.c)\n",
    "\n",
    "lhc_beam = ac.beam(particle = proton,\n",
    "                  total_energy = 7 *pq.TeV)\n",
    "\n",
    "lhc = ac.accelerator(beam = lhc_beam,\n",
    "                     circumference = 26.659 * pq.km,\n",
    "                     harmonic_number = 35600,\n",
    "                     max_dipole_field = 8.33*pq.T)"
   ]
  },
  {
   "cell_type": "markdown",
   "metadata": {},
   "source": [
    "# Accelerator Properties"
   ]
  },
  {
   "cell_type": "markdown",
   "metadata": {},
   "source": [
    "### Revolution Frequency"
   ]
  },
  {
   "cell_type": "code",
   "execution_count": 29,
   "metadata": {},
   "outputs": [
    {
     "data": {
      "text/html": [
       "11.24545014092433 kilohertz"
      ],
      "text/latex": [
       "$11.24545014092433\\ \\mathrm{kilohertz}$"
      ],
      "text/plain": [
       "11.24545014092433 <Unit('kilohertz')>"
      ]
     },
     "execution_count": 29,
     "metadata": {},
     "output_type": "execute_result"
    }
   ],
   "source": [
    "lhc.revolution_frequency().to(pq.kHz)"
   ]
  },
  {
   "cell_type": "markdown",
   "metadata": {},
   "source": [
    "### RF Frequency"
   ]
  },
  {
   "cell_type": "code",
   "execution_count": 30,
   "metadata": {},
   "outputs": [
    {
     "data": {
      "text/html": [
       "400.33802501690616 megahertz"
      ],
      "text/latex": [
       "$400.33802501690616\\ \\mathrm{megahertz}$"
      ],
      "text/plain": [
       "400.33802501690616 <Unit('megahertz')>"
      ]
     },
     "execution_count": 30,
     "metadata": {},
     "output_type": "execute_result"
    }
   ],
   "source": [
    "lhc.rf_frequency().to(pq.MHz)"
   ]
  },
  {
   "cell_type": "markdown",
   "metadata": {},
   "source": [
    "### RF Bandwidth"
   ]
  },
  {
   "cell_type": "code",
   "execution_count": 31,
   "metadata": {},
   "outputs": [
    {
     "data": {
      "text/html": [
       "0.8674681884935262 kilohertz"
      ],
      "text/latex": [
       "$0.8674681884935262\\ \\mathrm{kilohertz}$"
      ],
      "text/plain": [
       "0.86746818849352625 <Unit('kilohertz')>"
      ]
     },
     "execution_count": 31,
     "metadata": {},
     "output_type": "execute_result"
    }
   ],
   "source": [
    "lhc.cavity_bandwidth(injection_energy = 450 *pq.GeV,\n",
    "                     extraction_energy = 8*pq.TeV).to(pq.kHz)"
   ]
  },
  {
   "cell_type": "markdown",
   "metadata": {},
   "source": [
    "### Bending Radius"
   ]
  },
  {
   "cell_type": "code",
   "execution_count": 32,
   "metadata": {},
   "outputs": [
    {
     "data": {
      "text/html": [
       "2803.0596735633026 meter"
      ],
      "text/latex": [
       "$2803.0596735633026\\ \\mathrm{meter}$"
      ],
      "text/plain": [
       "2803.0596735633026 <Unit('meter')>"
      ]
     },
     "execution_count": 32,
     "metadata": {},
     "output_type": "execute_result"
    }
   ],
   "source": [
    "lhc.bending_radius().to(pq.m)"
   ]
  },
  {
   "cell_type": "markdown",
   "metadata": {},
   "source": [
    "### Magnetic Rigidity"
   ]
  },
  {
   "cell_type": "code",
   "execution_count": 34,
   "metadata": {},
   "outputs": [
    {
     "data": {
      "text/html": [
       "23349.487080782314 meter tesla"
      ],
      "text/latex": [
       "$23349.487080782314\\ \\mathrm{meter} \\cdot \\mathrm{tesla}$"
      ],
      "text/plain": [
       "23349.487080782314 <Unit('meter * tesla')>"
      ]
     },
     "execution_count": 34,
     "metadata": {},
     "output_type": "execute_result"
    }
   ],
   "source": [
    "lhc.magnetic_rigidity().to(pq.T*pq.m)"
   ]
  },
  {
   "cell_type": "markdown",
   "metadata": {},
   "source": [
    "### Filling Factor"
   ]
  },
  {
   "cell_type": "code",
   "execution_count": 38,
   "metadata": {},
   "outputs": [
    {
     "data": {
      "text/html": [
       "0.6606453113800426 dimensionless"
      ],
      "text/latex": [
       "$0.6606453113800426\\ dimensionless$"
      ],
      "text/plain": [
       "0.66064531138004257 <Unit('dimensionless')>"
      ]
     },
     "execution_count": 38,
     "metadata": {},
     "output_type": "execute_result"
    }
   ],
   "source": [
    "lhc.filling_factor(7*pq.TeV).to(pq.dimensionless)"
   ]
  },
  {
   "cell_type": "markdown",
   "metadata": {},
   "source": [
    "# Beam Properties"
   ]
  },
  {
   "cell_type": "markdown",
   "metadata": {},
   "source": [
    "### Relativistic Factors"
   ]
  },
  {
   "cell_type": "code",
   "execution_count": 40,
   "metadata": {},
   "outputs": [
    {
     "data": {
      "text/html": [
       "0.999999991016791 dimensionless"
      ],
      "text/latex": [
       "$0.999999991016791\\ dimensionless$"
      ],
      "text/plain": [
       "0.99999999101679105 <Unit('dimensionless')>"
      ]
     },
     "execution_count": 40,
     "metadata": {},
     "output_type": "execute_result"
    }
   ],
   "source": [
    "lhc_beam.beta()"
   ]
  },
  {
   "cell_type": "code",
   "execution_count": 45,
   "metadata": {},
   "outputs": [
    {
     "data": {
      "text/html": [
       "7460.52264353966 dimensionless"
      ],
      "text/latex": [
       "$7460.52264353966\\ dimensionless$"
      ],
      "text/plain": [
       "7460.52264353966 <Unit('dimensionless')>"
      ]
     },
     "execution_count": 45,
     "metadata": {},
     "output_type": "execute_result"
    }
   ],
   "source": [
    "lhc_beam.gamma().to(pq.dimensionless)"
   ]
  },
  {
   "cell_type": "markdown",
   "metadata": {},
   "source": [
    "### Energy and Momentum"
   ]
  },
  {
   "cell_type": "code",
   "execution_count": 43,
   "metadata": {},
   "outputs": [
    {
     "data": {
      "text/html": [
       "6.9990617279332215 teraelectron_volt"
      ],
      "text/latex": [
       "$6.9990617279332215\\ \\mathrm{teraelectron_volt}$"
      ],
      "text/plain": [
       "6.9990617279332215 <Unit('teraelectron_volt')>"
      ]
     },
     "execution_count": 43,
     "metadata": {},
     "output_type": "execute_result"
    }
   ],
   "source": [
    "lhc_beam.kinetic_energy()"
   ]
  },
  {
   "cell_type": "code",
   "execution_count": 44,
   "metadata": {},
   "outputs": [
    {
     "data": {
      "text/html": [
       "6.999999937117537 teraelectron_volt/speed_of_light"
      ],
      "text/latex": [
       "$6.999999937117537\\ \\frac{\\mathrm{teraelectron_volt}}{\\mathrm{speed_of_light}}$"
      ],
      "text/plain": [
       "6.9999999371175372 <Unit('teraelectron_volt / speed_of_light')>"
      ]
     },
     "execution_count": 44,
     "metadata": {},
     "output_type": "execute_result"
    }
   ],
   "source": [
    "lhc_beam.momentum()"
   ]
  },
  {
   "cell_type": "markdown",
   "metadata": {},
   "source": [
    "# Cavities"
   ]
  },
  {
   "cell_type": "markdown",
   "metadata": {},
   "source": [
    "### Cylindrical Pillbox Calculations"
   ]
  },
  {
   "cell_type": "code",
   "execution_count": 50,
   "metadata": {},
   "outputs": [],
   "source": [
    "cav = ac.cavity(400*pq.MHz)"
   ]
  },
  {
   "cell_type": "code",
   "execution_count": 51,
   "metadata": {},
   "outputs": [
    {
     "data": {
      "text/html": [
       "0.28685631958802515 meter"
      ],
      "text/latex": [
       "$0.28685631958802515\\ \\mathrm{meter}$"
      ],
      "text/plain": [
       "0.28685631958802515 <Unit('meter')>"
      ]
     },
     "execution_count": 51,
     "metadata": {},
     "output_type": "execute_result"
    }
   ],
   "source": [
    "cav.radius_for_tm101()"
   ]
  },
  {
   "cell_type": "markdown",
   "metadata": {},
   "source": [
    "### Frequency for TM Mode"
   ]
  },
  {
   "cell_type": "code",
   "execution_count": 55,
   "metadata": {},
   "outputs": [
    {
     "data": {
      "text/html": [
       "400.0785489372736 megahertz"
      ],
      "text/latex": [
       "$400.0785489372736\\ \\mathrm{megahertz}$"
      ],
      "text/plain": [
       "400.07854893727358 <Unit('megahertz')>"
      ]
     },
     "execution_count": 55,
     "metadata": {},
     "output_type": "execute_result"
    }
   ],
   "source": [
    "ac.resonant_frequency(28.68*pq.cm, 5*pq.m, 0, 1, 0).to(pq.MHz)"
   ]
  }
 ],
 "metadata": {
  "kernelspec": {
   "display_name": "Python 3",
   "language": "python",
   "name": "python3"
  },
  "language_info": {
   "codemirror_mode": {
    "name": "ipython",
    "version": 3
   },
   "file_extension": ".py",
   "mimetype": "text/x-python",
   "name": "python",
   "nbconvert_exporter": "python",
   "pygments_lexer": "ipython3",
   "version": "3.6.7"
  }
 },
 "nbformat": 4,
 "nbformat_minor": 2
}
